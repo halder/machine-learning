{
 "cells": [
  {
   "cell_type": "code",
   "execution_count": 32,
   "metadata": {},
   "outputs": [],
   "source": [
    "import numpy as np\n",
    "import statsmodels\n",
    "import matplotlib.pyplot as plt\n",
    "%matplotlib inline\n",
    "plt.rcParams[\"figure.figsize\"] = (15, 10)"
   ]
  },
  {
   "cell_type": "code",
   "execution_count": 33,
   "metadata": {},
   "outputs": [],
   "source": [
    "file = '../../../machine_learning_examples/linear_regression_class/data_1d.csv'"
   ]
  },
  {
   "cell_type": "code",
   "execution_count": 34,
   "metadata": {},
   "outputs": [],
   "source": [
    "fhand = open(file)\n",
    "TEMPx, TEMPy = [], []\n",
    "for line in fhand:\n",
    "    x, y = line.split(\",\")\n",
    "    TEMPx.append(float(x))\n",
    "    TEMPy.append(float(y))\n",
    "X, Y = np.array(TEMPx), np.array(TEMPy)"
   ]
  },
  {
   "cell_type": "code",
   "execution_count": 35,
   "metadata": {},
   "outputs": [],
   "source": [
    "N = len(X)"
   ]
  },
  {
   "cell_type": "markdown",
   "metadata": {},
   "source": [
    "denominator \n",
    "> `denominator = ( N*np.dot(X, X) ) - X.sum()**2`\n",
    "\n",
    "divide by N\n",
    "> `denominator = np.dot(X, X) - X.sum()*X.mean()`"
   ]
  },
  {
   "cell_type": "code",
   "execution_count": 36,
   "metadata": {},
   "outputs": [],
   "source": [
    "denominator = np.dot(X, X) - X.sum()*X.mean()"
   ]
  },
  {
   "cell_type": "markdown",
   "metadata": {},
   "source": [
    "intuition\n",
    "> `a = ( N\\*np.dot(X,Y) - Y.sum()\\*X.sum() ) / denominator`\\\n",
    "> `b = ( Y.sum()\\*np.dot(X,X) - np.dot(X,Y)\\*X.sum() ) / denominator`\n",
    "\n",
    "divide by N\n",
    "> `a = ( np.dot(X,Y) - Y.sum()\\*X.mean() ) / denominator`\\\n",
    "> `b = ( Y.mean()\\*np.dot(X,X) - np.dot(X,Y)\\*X.mean() ) / denominator` "
   ]
  },
  {
   "cell_type": "code",
   "execution_count": 40,
   "metadata": {},
   "outputs": [],
   "source": [
    "# fit\n",
    "a = ( np.dot(X, Y) - Y.sum()*X.mean() ) / denominator\n",
    "b = ( Y.mean()*np.dot(X,X) - np.dot(X,Y)*X.mean() ) / denominator"
   ]
  },
  {
   "cell_type": "code",
   "execution_count": 41,
   "metadata": {},
   "outputs": [],
   "source": [
    "# predict\n",
    "Yhat = a*X + b"
   ]
  },
  {
   "cell_type": "code",
   "execution_count": 42,
   "metadata": {},
   "outputs": [
    {
     "data": {
      "text/plain": [
       "[<matplotlib.lines.Line2D at 0x1aa49536f48>]"
      ]
     },
     "execution_count": 42,
     "metadata": {},
     "output_type": "execute_result"
    },
    {
     "data": {
      "image/png": "[encoded data removed]",
      "text/plain": [
       "<Figure size 1080x720 with 1 Axes>"
      ]
     },
     "metadata": {
      "needs_background": "light"
     },
     "output_type": "display_data"
    }
   ],
   "source": [
    "# plot\n",
    "plt.scatter(X, Y)\n",
    "plt.plot(X, Yhat)"
   ]
  },
  {
   "cell_type": "code",
   "execution_count": 45,
   "metadata": {},
   "outputs": [
    {
     "data": {
      "text/plain": [
       "24.79609914607141"
      ]
     },
     "execution_count": 45,
     "metadata": {},
     "output_type": "execute_result"
    }
   ],
   "source": [
    "E = np.mean((Y - Yhat)**2)\n",
    "E"
   ]
  },
  {
   "cell_type": "markdown",
   "metadata": {},
   "source": [
    "pseudocode:\\\n",
    "`def linreg(X):\n",
    "    a = ...\n",
    "    b = ...\n",
    "    Yhat = a*X + b\n",
    "    linregplot = plt.plot(X, Yhat)\n",
    "    return Yhat`"
   ]
  }
 ],
 "metadata": {
  "kernelspec": {
   "display_name": "Python 3",
   "language": "python",
   "name": "python3"
  },
  "language_info": {
   "codemirror_mode": {
    "name": "ipython",
    "version": 3
   },
   "file_extension": ".py",
   "mimetype": "text/x-python",
   "name": "python",
   "nbconvert_exporter": "python",
   "pygments_lexer": "ipython3",
   "version": "3.7.5"
  }
 },
 "nbformat": 4,
 "nbformat_minor": 2
}
